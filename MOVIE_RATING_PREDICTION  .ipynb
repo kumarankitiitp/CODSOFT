{
 "cells": [
  {
   "cell_type": "code",
   "execution_count": 6,
   "id": "c8edca9b-ab4d-43d5-a4ee-6e81f32141ff",
   "metadata": {},
   "outputs": [
    {
     "name": "stdout",
     "output_type": "stream",
     "text": [
      "✅ Model Evaluation\n",
      "MSE: 1.57\n",
      "R² Score: 0.15\n",
      "🎬 Predicted Rating: 7.11\n"
     ]
    }
   ],
   "source": [
    "import pandas as pd\n",
    "import numpy as np\n",
    "from sklearn.model_selection import train_test_split\n",
    "from sklearn.ensemble import RandomForestRegressor\n",
    "from sklearn.preprocessing import LabelEncoder\n",
    "from sklearn.metrics import mean_squared_error, r2_score\n",
    "import warnings\n",
    "warnings.filterwarnings(\"ignore\")\n",
    "\n",
    "# Load dataset\n",
    "df = pd.read_csv(\"IMDb Movies India.csv\", encoding=\"ISO-8859-1\")\n",
    "\n",
    "# Drop rows with essential missing values\n",
    "df.dropna(subset=['Rating', 'Genre', 'Director', 'Votes', 'Actor 1', 'Actor 2', 'Actor 3'], inplace=True)\n",
    "\n",
    "# Clean and convert 'Votes' column\n",
    "df['Votes'] = df['Votes'].astype(str).str.replace(',', '')\n",
    "df['Votes'] = pd.to_numeric(df['Votes'], errors='coerce')\n",
    "df.dropna(subset=['Votes'], inplace=True)\n",
    "\n",
    "# Encode categorical features\n",
    "le_genre = LabelEncoder()\n",
    "le_director = LabelEncoder()\n",
    "le_actor1 = LabelEncoder()\n",
    "le_actor2 = LabelEncoder()\n",
    "le_actor3 = LabelEncoder()\n",
    "\n",
    "df['Genre_enc'] = le_genre.fit_transform(df['Genre'])\n",
    "df['Director_enc'] = le_director.fit_transform(df['Director'])\n",
    "df['Actor1_enc'] = le_actor1.fit_transform(df['Actor 1'])\n",
    "df['Actor2_enc'] = le_actor2.fit_transform(df['Actor 2'])\n",
    "df['Actor3_enc'] = le_actor3.fit_transform(df['Actor 3'])\n",
    "\n",
    "# Feature matrix and target\n",
    "X = df[['Genre_enc', 'Director_enc', 'Actor1_enc', 'Actor2_enc', 'Actor3_enc', 'Votes']]\n",
    "y = df['Rating']\n",
    "\n",
    "# Train/test split\n",
    "X_train, X_test, y_train, y_test = train_test_split(X, y, test_size=0.2, random_state=42)\n",
    "\n",
    "# Model training\n",
    "model = RandomForestRegressor(n_estimators=100, random_state=42)\n",
    "model.fit(X_train, y_train)\n",
    "\n",
    "# Evaluation\n",
    "y_pred = model.predict(X_test)\n",
    "print(\"✅ Model Evaluation\")\n",
    "print(\"MSE:\", round(mean_squared_error(y_test, y_pred), 2))\n",
    "print(\"R² Score:\", round(r2_score(y_test, y_pred), 2))\n",
    "\n",
    "# Predict rating based on new inputs\n",
    "def predict_rating(genre, director, actor1, actor2, actor3, votes):\n",
    "    try:\n",
    "        g = le_genre.transform([genre])[0]\n",
    "        d = le_director.transform([director])[0]\n",
    "        a1 = le_actor1.transform([actor1])[0]\n",
    "        a2 = le_actor2.transform([actor2])[0]\n",
    "        a3 = le_actor3.transform([actor3])[0]\n",
    "        prediction = model.predict([[g, d, a1, a2, a3, votes]])[0]\n",
    "        print(f\"🎬 Predicted Rating: {round(prediction, 2)}\")\n",
    "    except Exception as e:\n",
    "        print(\"❌ Error:\", e)\n",
    "        print(\"Ensure genre, director, and actor names exist in the dataset.\")\n",
    "\n",
    "# Example usage\n",
    "predict_rating(\"Drama\", \"Anurag Kashyap\", \"Nawazuddin Siddiqui\", \"Radhika Apte\", \"Rajkummar Rao\", 1000)"
   ]
  }
 ],
 "metadata": {
  "kernelspec": {
   "display_name": "Python [conda env:base] *",
   "language": "python",
   "name": "conda-base-py"
  },
  "language_info": {
   "codemirror_mode": {
    "name": "ipython",
    "version": 3
   },
   "file_extension": ".py",
   "mimetype": "text/x-python",
   "name": "python",
   "nbconvert_exporter": "python",
   "pygments_lexer": "ipython3",
   "version": "3.12.7"
  }
 },
 "nbformat": 4,
 "nbformat_minor": 5
}
