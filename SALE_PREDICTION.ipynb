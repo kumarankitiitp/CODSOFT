{
 "cells": [
  {
   "cell_type": "code",
   "execution_count": 7,
   "id": "e12c5247-4108-47e0-b0dd-b163672abe90",
   "metadata": {},
   "outputs": [
    {
     "name": "stdout",
     "output_type": "stream",
     "text": [
      "Model Performance:\n",
      "Training R-squared: 0.9001\n",
      "Test R-squared: 0.9059\n",
      "Training RMSE: 2.6761\n",
      "Test RMSE: 2.9078\n",
      "\n",
      "Feature Coefficients (Impact on Sales):\n",
      "TV: 0.0545\n",
      "Radio: 0.1009\n",
      "Newspaper: 0.0043\n",
      "\n",
      "Example Predictions:\n",
      "230.1k TV, 37.8k Radio, 69.2k Newspaper: 21.37 thousand units\n",
      "100k TV, 25k Radio, 10k Newspaper: 12.73 thousand units\n",
      "300k TV, 50k Radio, 0k Newspaper: 26.11 thousand units\n"
     ]
    },
    {
     "name": "stderr",
     "output_type": "stream",
     "text": [
      "/opt/anaconda3/lib/python3.12/site-packages/sklearn/base.py:493: UserWarning: X does not have valid feature names, but LinearRegression was fitted with feature names\n",
      "  warnings.warn(\n",
      "/opt/anaconda3/lib/python3.12/site-packages/sklearn/base.py:493: UserWarning: X does not have valid feature names, but LinearRegression was fitted with feature names\n",
      "  warnings.warn(\n",
      "/opt/anaconda3/lib/python3.12/site-packages/sklearn/base.py:493: UserWarning: X does not have valid feature names, but LinearRegression was fitted with feature names\n",
      "  warnings.warn(\n"
     ]
    }
   ],
   "source": [
    "import pandas as pd\n",
    "import numpy as np\n",
    "from sklearn.model_selection import train_test_split\n",
    "from sklearn.linear_model import LinearRegression\n",
    "from sklearn.metrics import r2_score, mean_squared_error\n",
    "\n",
    "# Load and prepare data\n",
    "data = pd.read_csv('advertising.csv')\n",
    "X = data[['TV', 'Radio', 'Newspaper']]\n",
    "y = data['Sales']\n",
    "\n",
    "# Split data \n",
    "X_train, X_test, y_train, y_test = train_test_split(X, y, test_size=0.2, random_state=42)\n",
    "\n",
    "# Train model\n",
    "model = LinearRegression()\n",
    "model.fit(X_train, y_train)\n",
    "\n",
    "# Evaluate model\n",
    "train_pred = model.predict(X_train)\n",
    "test_pred = model.predict(X_test)\n",
    "\n",
    "print(\"Model Performance:\")\n",
    "print(f\"Training R-squared: {r2_score(y_train, train_pred):.4f}\")\n",
    "print(f\"Test R-squared: {r2_score(y_test, test_pred):.4f}\")\n",
    "print(f\"Training RMSE: {mean_squared_error(y_train, train_pred):.4f}\")\n",
    "print(f\"Test RMSE: {mean_squared_error(y_test, test_pred):.4f}\")\n",
    "\n",
    "# Show feature importance\n",
    "print(\"\\nFeature Coefficients (Impact on Sales):\")\n",
    "for feature, coef in zip(X.columns, model.coef_):\n",
    "    print(f\"{feature}: {coef:.4f}\")\n",
    "\n",
    "# Function to predict new values\n",
    "def predict_sales(tv, radio, newspaper):\n",
    "    \"\"\"Predict sales for new advertising\"\"\"\n",
    "    new_data = np.array([[tv, radio, newspaper]])\n",
    "    prediction = model.predict(new_data)\n",
    "    return prediction[0]\n",
    "\n",
    "# Example prediction\n",
    "print(\"\\nExample Predictions:\")\n",
    "print(f\"230.1k TV, 37.8k Radio, 69.2k Newspaper: {predict_sales(230.1, 37.8, 69.2):.2f} thousand units\")\n",
    "print(f\"100k TV, 25k Radio, 10k Newspaper: {predict_sales(100, 25, 10):.2f} thousand units\")\n",
    "print(f\"300k TV, 50k Radio, 0k Newspaper: {predict_sales(300, 50, 0):.2f} thousand units\")"
   ]
  }
 ],
 "metadata": {
  "kernelspec": {
   "display_name": "Python [conda env:base] *",
   "language": "python",
   "name": "conda-base-py"
  },
  "language_info": {
   "codemirror_mode": {
    "name": "ipython",
    "version": 3
   },
   "file_extension": ".py",
   "mimetype": "text/x-python",
   "name": "python",
   "nbconvert_exporter": "python",
   "pygments_lexer": "ipython3",
   "version": "3.12.7"
  }
 },
 "nbformat": 4,
 "nbformat_minor": 5
}
